{
 "cells": [
  {
   "cell_type": "code",
   "execution_count": 2,
   "metadata": {},
   "outputs": [
    {
     "name": "stdout",
     "output_type": "stream",
     "text": [
      "总行数= 2720\n"
     ]
    }
   ],
   "source": [
    "import xlrd\n",
    "import wx\n",
    "\n",
    "def get_path(wildcard):\n",
    "    app = wx.App(None)\n",
    "    style = wx.FD_OPEN | wx.FD_FILE_MUST_EXIST\n",
    "    dialog = wx.FileDialog(None, 'Open', wildcard=wildcard, style=style)\n",
    "    if dialog.ShowModal() == wx.ID_OK:\n",
    "        path = dialog.GetPath()\n",
    "    else:\n",
    "        path = None\n",
    "    dialog.Destroy()\n",
    "    return path\n",
    "xls_file = get_path(\"*.xlsx\")\n",
    "csv_file = xls_file[:-5]+\".csv\"\n",
    "\n",
    "data = xlrd.open_workbook(xls_file)\n",
    "table = data.sheets()[0]\n",
    "bh = table.col_values(3)\n",
    "name = table.col_values(5)\n",
    "zsbh = table.col_values(7)\n",
    "#print(bh,'\\n',zsbh)\n",
    "nrows = len(bh)\n",
    "print(\"总行数=\",nrows)\n",
    "bj_zs = {} #保存班级的证书序列\n",
    "for i in range(nrows-1):\n",
    "    if bh[i] in bj_zs : #如果该班号存在\n",
    "        student={'row':i,'name':name[i],'证书编号后四位':zsbh[i][-4:]}\n",
    "        #print(student)\n",
    "        bj_zs[bh[i]].append(student) #保存对应证书编号的最后四位\n",
    "    else:\n",
    "        bj_zs[bh[i]]=[]\n",
    "        student={'row':i,'name':name[i],'证书编号后四位':zsbh[i][-4:]}\n",
    "        #print(student)\n",
    "        bj_zs[bh[i]].append(student) #保存对应证书编号的最后四位\n",
    "import csv\n",
    "with open(csv_file,\"w\",newline=\"\") as datacsv:\n",
    "    csvwriter=csv.writer(datacsv, dialect=(\"excel\"))\n",
    "    csvwriter.writerow(['班级','开始编号','结束编号','证书数目'])\n",
    "    for bj_index in bj_zs:\n",
    "        bj = bj_zs[bj_index]\n",
    "        #print(stu)\n",
    "        if len(bj)>0 :\n",
    "            csvwriter.writerow([bj_index,\n",
    "                                str(bj[0]['证书编号后四位']),\n",
    "                               str(bj[-1]['证书编号后四位']),\n",
    "                               len(bj)])\n",
    "        #print('班级：', bj_index)\n",
    "        #print('\\t证书编号范围：', bj[0]['证书编号后四位'],'-', bj[-1]['证书编号后四位'])\n"
   ]
  },
  {
   "cell_type": "code",
   "execution_count": null,
   "metadata": {
    "collapsed": true
   },
   "outputs": [],
   "source": []
  },
  {
   "cell_type": "code",
   "execution_count": null,
   "metadata": {
    "collapsed": true
   },
   "outputs": [],
   "source": []
  }
 ],
 "metadata": {
  "kernelspec": {
   "display_name": "Python 3",
   "language": "python",
   "name": "python3"
  },
  "language_info": {
   "codemirror_mode": {
    "name": "ipython",
    "version": 3
   },
   "file_extension": ".py",
   "mimetype": "text/x-python",
   "name": "python",
   "nbconvert_exporter": "python",
   "pygments_lexer": "ipython3",
   "version": "3.6.2"
  }
 },
 "nbformat": 4,
 "nbformat_minor": 2
}
