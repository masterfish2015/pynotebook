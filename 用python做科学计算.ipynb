{
 "cells": [
  {
   "cell_type": "markdown",
   "metadata": {},
   "source": [
    "# 用python做科学计算\n",
    "---\n",
    "## 第2章 Numpy-快速处理数据\n",
    "---\n",
    "### 2.1 `nd.array`对象\n",
    "---\n",
    "\n",
    "> 函数库的导入\n",
    "\n",
    "```python\n",
    "import numpy as np\n",
    "```\n",
    "\n",
    "#### 2.1.1 创建"
   ]
  },
  {
   "cell_type": "code",
   "execution_count": 1,
   "metadata": {},
   "outputs": [
    {
     "name": "stdout",
     "output_type": "stream",
     "text": [
      "a= [1 2 3 4]\n",
      "b= [3 4 5 6]\n",
      "c= [[ 1  2  3  4]\n",
      " [ 4  5  6  7]\n",
      " [ 7  8  9 10]]\n",
      "c 数组中元素的类型：c.dtype= int32\n",
      "数组的大小: a.shape=  (4,)  c.shape= (3, 4)\n",
      "通过shape属性来改变每个轴的长度：\n",
      "c.shape = 4,3\n",
      "c= [[ 1  2  3]\n",
      " [ 4  4  5]\n",
      " [ 6  7  7]\n",
      " [ 8  9 10]]\n",
      "某个轴的长度为-1时，表示这个轴的长度被自动计算\n",
      "c.shape = 2, -1\n",
      "c =  [[ 1  2  3  4  4  5]\n",
      " [ 6  7  7  8  9 10]]\n",
      "使用reshape来创建一个改变轴长度的新数组，原数组的shape不变\n",
      "c= [[ 1  2  3  4]\n",
      " [ 4  5  6  7]\n",
      " [ 7  8  9 10]] c.shape =  (3, 4)\n",
      "d = c.reshape((2,-1))\n",
      "d = [[ 1  2  3  4  4  5]\n",
      " [ 6  7  7  8  9 10]] d.shape =  (2, 6)\n",
      "c = [[ 1  2  3  4]\n",
      " [ 4  5  6  7]\n",
      " [ 7  8  9 10]] c.shape =  (3, 4)\n",
      "reshape创建的数组和原数组共享内存，修改一个另一个也会改变\n",
      "d[1,2]=3\n",
      "d = [[ 1  2  3  4  4  5]\n",
      " [ 6  7  3  8  9 10]] d.shape =  (2, 6)\n",
      "c = [[ 1  2  3  4]\n",
      " [ 4  5  6  7]\n",
      " [ 3  8  9 10]] c.shape =  (3, 4)\n"
     ]
    }
   ],
   "source": [
    "import numpy as np\n",
    "a = np.array([1,2,3,4])\n",
    "b = np.array((3,4,5,6))\n",
    "c = np.array([[1,2,3,4],[4,5,6,7],[7,8,9,10]])\n",
    "print(\"a=\",a)\n",
    "print(\"b=\",b)\n",
    "print(\"c=\",c)\n",
    "print(\"c 数组中元素的类型：c.dtype=\", c.dtype)\n",
    "print(\"数组的大小: a.shape= \", a.shape, \" c.shape=\",c.shape)\n",
    "print(\"通过shape属性来改变每个轴的长度：\")\n",
    "print(\"c.shape = 4,3\")\n",
    "c.shape = 4,3\n",
    "print(\"c=\",c)\n",
    "print(\"某个轴的长度为-1时，表示这个轴的长度被自动计算\")\n",
    "print(\"c.shape = 2, -1\")\n",
    "c.shape = 2, -1\n",
    "print(\"c = \", c)\n",
    "print(\"使用reshape来创建一个改变轴长度的新数组，原数组的shape不变\")\n",
    "c.shape = 3,-1\n",
    "print(\"c=\",c, \"c.shape = \", c.shape)\n",
    "print(\"d = c.reshape((2,-1))\")\n",
    "d = c.reshape((2,-1))\n",
    "print(\"d =\",d, \"d.shape = \", d.shape)\n",
    "print(\"c =\",c, \"c.shape = \", c.shape)\n",
    "print(\"reshape创建的数组和原数组共享内存，修改一个另一个也会改变\")\n",
    "print(\"d[1,2]=3\")\n",
    "d[1,2]=3\n",
    "print(\"d =\",d, \"d.shape = \", d.shape)\n",
    "print(\"c =\",c, \"c.shape = \", c.shape)"
   ]
  },
  {
   "cell_type": "code",
   "execution_count": 2,
   "metadata": {},
   "outputs": [
    {
     "name": "stdout",
     "output_type": "stream",
     "text": [
      "可以在创建数组的时候指定数据类型\n",
      "c = np.array([1,2,3,4], dtype=np.float)\n",
      "c =  [ 1.  2.  3.  4.] c.dtype= float64\n",
      "d = np.array([1,2,3,4], dtype=np.complex)\n",
      "d =  [ 1.+0.j  2.+0.j  3.+0.j  4.+0.j] d.dtype= complex128\n"
     ]
    }
   ],
   "source": [
    "import numpy as np\n",
    "print(\"可以在创建数组的时候指定数据类型\")\n",
    "print(\"c = np.array([1,2,3,4], dtype=np.float)\")\n",
    "c = np.array([1,2,3,4], dtype=np.float)\n",
    "print(\"c = \", c, \"c.dtype=\", c.dtype)\n",
    "print(\"d = np.array([1,2,3,4], dtype=np.complex)\")\n",
    "d = np.array([1,2,3,4], dtype=np.complex)\n",
    "print(\"d = \", d, \"d.dtype=\", d.dtype)"
   ]
  },
  {
   "cell_type": "code",
   "execution_count": 3,
   "metadata": {},
   "outputs": [
    {
     "name": "stdout",
     "output_type": "stream",
     "text": [
      "arange函数可以指定：开始值，结束值（不可取到），步进值\n",
      "a=np.arange(0,1,0.1)\n",
      "a= [ 0.   0.1  0.2  0.3  0.4  0.5  0.6  0.7  0.8  0.9]\n"
     ]
    }
   ],
   "source": [
    "print(\"arange函数可以指定：开始值，结束值（不可取到），步进值\") \n",
    "print(\"a=np.arange(0,1,0.1)\")\n",
    "a = np.arange(0,1,0.1)\n",
    "print(\"a=\",a)"
   ]
  },
  {
   "cell_type": "code",
   "execution_count": 4,
   "metadata": {},
   "outputs": [
    {
     "name": "stdout",
     "output_type": "stream",
     "text": [
      "linspace函数可以指定：开始值，结束值（可以取到），元素个数\n",
      "b=np.linspace(0,1,11)\n",
      "b= [ 0.   0.1  0.2  0.3  0.4  0.5  0.6  0.7  0.8  0.9  1. ]\n"
     ]
    }
   ],
   "source": [
    "print(\"linspace函数可以指定：开始值，结束值（可以取到），元素个数\")\n",
    "print(\"b=np.linspace(0,1,11)\")\n",
    "b=np.linspace(0,1,11)\n",
    "print(\"b=\",b)"
   ]
  },
  {
   "cell_type": "code",
   "execution_count": 5,
   "metadata": {},
   "outputs": [
    {
     "name": "stdout",
     "output_type": "stream",
     "text": [
      "logspace函数可以指定：开始值，结束值（可以取到），元素个数\n",
      "c=np.logspace(0,10,11)是在10^0~ 10^10之间的序列\n",
      "c= [  1.00000000e+00   1.00000000e+01   1.00000000e+02   1.00000000e+03\n",
      "   1.00000000e+04   1.00000000e+05   1.00000000e+06   1.00000000e+07\n",
      "   1.00000000e+08   1.00000000e+09   1.00000000e+10]\n"
     ]
    }
   ],
   "source": [
    "print(\"logspace函数可以指定：开始值，结束值（可以取到），元素个数\")\n",
    "print(\"c=np.logspace(0,10,11)是在10^0~ 10^10之间的序列\")\n",
    "c=np.logspace(0,10,11)\n",
    "print(\"c=\",c)"
   ]
  },
  {
   "cell_type": "code",
   "execution_count": 6,
   "metadata": {},
   "outputs": [
    {
     "name": "stdout",
     "output_type": "stream",
     "text": [
      "用fromfunction函数来通过指定一个函数来创建序列数组\n",
      "d= [ 1.  2.  3.  4.  1.  2.  3.  4.  1.  2.]\n",
      "99乘法表\n",
      "e=\n",
      "[[  1.   2.   3.   4.   5.   6.   7.   8.   9.]\n",
      " [  2.   4.   6.   8.  10.  12.  14.  16.  18.]\n",
      " [  3.   6.   9.  12.  15.  18.  21.  24.  27.]\n",
      " [  4.   8.  12.  16.  20.  24.  28.  32.  36.]\n",
      " [  5.  10.  15.  20.  25.  30.  35.  40.  45.]\n",
      " [  6.  12.  18.  24.  30.  36.  42.  48.  54.]\n",
      " [  7.  14.  21.  28.  35.  42.  49.  56.  63.]\n",
      " [  8.  16.  24.  32.  40.  48.  56.  64.  72.]\n",
      " [  9.  18.  27.  36.  45.  54.  63.  72.  81.]]\n"
     ]
    }
   ],
   "source": [
    "print(\"用fromfunction函数来通过指定一个函数来创建序列数组\")\n",
    "def fun(i):\n",
    "    return i%4+1\n",
    "d=np.fromfunction(fun, (10,)) #后面的参数表示一维数组，[0..9]作为参数传入函数\n",
    "print(\"d=\", d)\n",
    "\n",
    "print(\"99乘法表\")\n",
    "def fun1(i,j):\n",
    "    return (i+1)*(j+1)\n",
    "e = np.fromfunction(fun1,(9,9))\n",
    "print(\"e=\")\n",
    "print(e)"
   ]
  },
  {
   "cell_type": "markdown",
   "metadata": {},
   "source": [
    "#### 2.1.2 存取元素"
   ]
  },
  {
   "cell_type": "code",
   "execution_count": 7,
   "metadata": {},
   "outputs": [
    {
     "name": "stdout",
     "output_type": "stream",
     "text": [
      "a\n",
      "[0 1 2 3 4 5 6 7 8 9]\n",
      "单一元素：a[5]= 5\n",
      "切片：a[3:5]= [3 4] 半闭半开区间\n",
      "切片：a[:5]= [0 1 2 3 4] 省略开始下标，表示从0开始\n",
      "a[:-1]= [0 1 2 3 4 5 6 7 8] -1表示从最后往前数第一个数，即：9\n",
      "a[2:4]=100,1000  可以用切片来修改元素的值\n",
      "a=\n",
      "[   0    1  100 1000    4    5    6    7    8    9]\n",
      "a[1:-1:2]= [   1 1000    5    7] 第三个参数表示步进值\n",
      "a[::-1]= [   9    8    7    6    5    4 1000  100    1    0]  颠倒数组\n",
      "a[5:1:-2]= [   5 1000]  步进值<0时，开始下标必须大于结束下标\n"
     ]
    }
   ],
   "source": [
    "a = np.arange(10)\n",
    "print(\"a\")\n",
    "print(a)\n",
    "print(\"单一元素：a[5]=\",a[5])\n",
    "print(\"切片：a[3:5]=\",a[3:5],\"半闭半开区间\")\n",
    "print(\"切片：a[:5]=\",a[:5],\"省略开始下标，表示从0开始\")\n",
    "print(\"a[:-1]=\",a[:-1],\"-1表示从最后往前数第一个数，即：9\")\n",
    "print(\"a[2:4]=100,1000\", \" 可以用切片来修改元素的值\")\n",
    "a[2:4]=100,1000\n",
    "print(\"a=\")\n",
    "print(a)\n",
    "print(\"a[1:-1:2]=\",a[1:-1:2],\"第三个参数表示步进值\")\n",
    "print(\"a[::-1]=\",a[::-1],\" 颠倒数组\")\n",
    "print(\"a[5:1:-2]=\", a[5:1:-2],\" 步进值<0时，开始下标必须大于结束下标\")"
   ]
  },
  {
   "cell_type": "code",
   "execution_count": 8,
   "metadata": {},
   "outputs": [
    {
     "name": "stdout",
     "output_type": "stream",
     "text": [
      "通过下标创建的新的数组和原数组共享数据空间\n",
      "a= [   0    1  100 1000    4    5    6    7    8    9]\n",
      "b=a[3:7]= [1000    4    5    6]\n",
      "b[2]=-10\n",
      "a= [   0    1  100 1000    4  -10    6    7    8    9]\n",
      "b=a[3:7]= [1000    4  -10    6]\n"
     ]
    }
   ],
   "source": [
    "print(\"通过下标创建的新的数组和原数组共享数据空间\")\n",
    "b=a[3:7]\n",
    "print(\"a=\",a)\n",
    "print(\"b=a[3:7]=\",b)\n",
    "print(\"b[2]=-10\")\n",
    "b[2]=-10\n",
    "print(\"a=\",a)\n",
    "print(\"b=a[3:7]=\",b)"
   ]
  },
  {
   "cell_type": "code",
   "execution_count": 9,
   "metadata": {},
   "outputs": [
    {
     "name": "stdout",
     "output_type": "stream",
     "text": [
      "可以使用整数序列来存取元素：\n",
      "x= [10  9  8  7  6  5  4  3  2]\n",
      "y=x[[3,3,-2,8]]= [7 7 3 2]\n",
      "使用这种方法得到的数组和原数组是不同的，不共享数据空间\n",
      "x[0]=10, x= [100   9   8   7   6   5   4   3   2]\n",
      "y[1]=20, y= [ 7 20  3  2]\n",
      "可以用整数序列下标修改元素的值\n",
      "x[[3,5,1]]=-1,-2,-3\n",
      "[100  -3   8  -1   6  -2   4   3   2]\n"
     ]
    }
   ],
   "source": [
    "import numpy as np\n",
    "print(\"可以使用整数序列来存取元素：\")\n",
    "x=np.arange(10,1,-1)\n",
    "print(\"x=\", x)\n",
    "y=x[[3,3,-2,8]]\n",
    "print(\"y=x[[3,3,-2,8]]=\",y)\n",
    "print(\"使用这种方法得到的数组和原数组是不同的，不共享数据空间\")\n",
    "x[0]=100\n",
    "y[1]=20\n",
    "print(\"x[0]=10, x=\", x)\n",
    "print(\"y[1]=20, y=\", y)\n",
    "print(\"可以用整数序列下标修改元素的值\")\n",
    "print(\"x[[3,5,1]]=-1,-2,-3\")\n",
    "x[[3,5,1]]=-1,-2,-3\n",
    "print(x)"
   ]
  },
  {
   "cell_type": "markdown",
   "metadata": {
    "collapsed": true
   },
   "source": [
    "### 2.1.3 多维数组"
   ]
  },
  {
   "cell_type": "code",
   "execution_count": 10,
   "metadata": {},
   "outputs": [
    {
     "name": "stdout",
     "output_type": "stream",
     "text": [
      "两个数组如果长度不同，会扩展到相同再相加\n",
      "a= [[ 0]\n",
      " [10]\n",
      " [20]\n",
      " [30]\n",
      " [40]\n",
      " [50]] \n",
      "b= [0 1 2 3 4 5]\n",
      "c=a+b=\n",
      " [[ 0  1  2  3  4  5]\n",
      " [10 11 12 13 14 15]\n",
      " [20 21 22 23 24 25]\n",
      " [30 31 32 33 34 35]\n",
      " [40 41 42 43 44 45]\n",
      " [50 51 52 53 54 55]]\n",
      "使用整数序列来存取多维数组\n",
      "c[(0,1,2,3,4),(1,2,3,4,5)]=\n",
      " [ 1 12 23 34 45]\n",
      "c[3:,[0,2,5]]=\n",
      " [[30 32 35]\n",
      " [40 42 45]\n",
      " [50 52 55]]\n",
      "使用布尔数组进行掩膜操作\n",
      "mash= [ True False  True False False  True]\n",
      "c[mask, 2]= [ 2 22 52]\n"
     ]
    }
   ],
   "source": [
    "import numpy as np\n",
    "a = np.arange(0,60,10).reshape(-1,1)\n",
    "b = np.arange(0,6)\n",
    "c = a+b\n",
    "print(\"两个数组如果长度不同，会扩展到相同再相加\")\n",
    "print(\"a=\",a,\"\\nb=\",b)\n",
    "print(\"c=a+b=\\n\", c)\n",
    "print(\"使用整数序列来存取多维数组\")\n",
    "print(\"c[(0,1,2,3,4),(1,2,3,4,5)]=\\n\",c[(0,1,2,3,4),(1,2,3,4,5)])\n",
    "print(\"c[3:,[0,2,5]]=\\n\",c[3:,[0,2,5]])\n",
    "print(\"使用布尔数组进行掩膜操作\")\n",
    "mask=np.array([1,0,1,0,0,1],dtype=np.bool)\n",
    "print(\"mash=\",mask)\n",
    "print(\"c[mask, 2]=\", c[mask, 2])"
   ]
  },
  {
   "cell_type": "markdown",
   "metadata": {},
   "source": [
    "### 2.1.4 结构数组\n",
    "---\n"
   ]
  },
  {
   "cell_type": "code",
   "execution_count": 15,
   "metadata": {},
   "outputs": [
    {
     "name": "stdout",
     "output_type": "stream",
     "text": [
      "[('Zhang', 32,  75.5       ) ('Wang', 24,  65.19999695)]\n",
      "[('name', '<U32'), ('age', '<i4'), ('weight', '<f4')]\n"
     ]
    }
   ],
   "source": [
    "import numpy as np\n",
    "persontype = np.dtype({\n",
    "    'names':['name', 'age', 'weight'],\n",
    "    'formats':['U32','i', 'f']})\n",
    "a = np.array([(\"Zhang\",32,75.5),(\"Wang\",24,65.2)],\n",
    "    dtype=persontype)\n",
    "print(a)\n",
    "print(a.dtype) # <表示低位字节在前"
   ]
  },
  {
   "cell_type": "code",
   "execution_count": 30,
   "metadata": {},
   "outputs": [
    {
     "name": "stdout",
     "output_type": "stream",
     "text": [
      "点类型\n",
      "[(12, 45)] [('x', '<i8'), ('y', '<i8')]\n",
      "直线类型\n",
      "[((1, 2), (4, 5))] [('start', [('x', '<i8'), ('y', '<i8')]), ('end', [('x', '<i8'), ('y', '<i8')])]\n",
      "直线l1[0]= ((1, 2), (4, 5))\n",
      "直线l1[0]的开始点= (1, 2)\n",
      "l1[0].start.x= 1\n",
      "l1[0].start.y= 2\n",
      "直线l1[0]的结束点= (4, 5)\n"
     ]
    }
   ],
   "source": [
    "import numpy as np\n",
    "TPoint = np.dtype([('x','i8'),('y','i8')])\n",
    "p1 = np.array([(12,45)],dtype=TPoint)\n",
    "print(\"点类型\")\n",
    "print(p1,p1.dtype)\n",
    "TLine = np.dtype([(\"start\", TPoint), (\"end\", TPoint)])\n",
    "print(\"直线类型\")\n",
    "l1 = np.array([((1,2),(4,5))],dtype=TLine)\n",
    "print(l1, TLine)\n",
    "print(\"直线l1[0]=\",l1[0])\n",
    "print(\"直线l1[0]的开始点=\",l1[0]['start'])\n",
    "print('l1[0].start.x=',l1[0]['start']['x'])\n",
    "print('l1[0].start.y=',l1[0]['start']['y'])\n",
    "print(\"直线l1[0]的结束点=\",l1[0]['end'])"
   ]
  },
  {
   "cell_type": "markdown",
   "metadata": {},
   "source": [
    "### 2.1.5 内存结构\n",
    "---\n",
    "![ndarray的内存的结构](./images/ndarray的内存结构.png)\n",
    "上面的strides保存了每一个轴的下标增加1时，数据存储区的指针增加的字节数\n",
    "\n",
    "元素在数据存储区中的排列格式有两种：C语言格式和Fortan语言格式。在C语言中，多维数组的第0轴是最上位的，即第0轴的下标增加1时，元素的地址增加的字节数最多；而Fortan语言的多维数组的第0轴是最下位的，即第0轴的下标增加1时，地址只增加一个元素的字节数。在NumPy中，元素在内存中的排列缺省是以C语言格式存储的，如果你希望改为Fortan格式的话，只需要给数组传递 `order=\"F\"`参数：\n",
    "```python\n",
    ">>> c = np.array([[0,1,2],[3,4,5],[6,7,8]], dtype=np.float32, order=\"F\")\n",
    ">>> c.strides\n",
    "(4, 12)\n",
    "```"
   ]
  },
  {
   "cell_type": "code",
   "execution_count": 33,
   "metadata": {},
   "outputs": [
    {
     "name": "stdout",
     "output_type": "stream",
     "text": [
      "[[ 0.  1.  2.]\n",
      " [ 3.  4.  5.]\n",
      " [ 6.  7.  8.]]\n"
     ]
    }
   ],
   "source": [
    "#上图是下面的数组的内存结构\n",
    "import numpy as np\n",
    "a=np.arange(9,dtype=np.float32)\n",
    "a.shape = 3,3\n",
    "print(a)"
   ]
  },
  {
   "cell_type": "markdown",
   "metadata": {},
   "source": [
    "## 2.2 ufunc运算\n",
    "---\n",
    "ufunc是universal function的缩写，它是一种能对数组的每个元素进行操作的函数。NumPy内置的许多ufunc函数都是在C语言级别实现的，因此它们的计算速度非常快。让我们来看一个例子："
   ]
  },
  {
   "cell_type": "code",
   "execution_count": 38,
   "metadata": {},
   "outputs": [
    {
     "name": "stdout",
     "output_type": "stream",
     "text": [
      "x= [ 0.          0.17951958  0.35903916  0.53855874  0.71807832  0.8975979\n",
      "  1.07711748  1.25663706  1.43615664  1.61567622  1.7951958   1.97471538\n",
      "  2.15423496  2.33375454  2.51327412  2.6927937   2.87231328  3.05183286\n",
      "  3.23135244  3.41087202  3.5903916   3.76991118  3.94943076  4.12895034\n",
      "  4.30846992  4.48798951  4.66750909  4.84702867  5.02654825  5.20606783\n",
      "  5.38558741  5.56510699  5.74462657  5.92414615  6.10366573  6.28318531] \n",
      "y= [  0.00000000e+00   1.78556895e-01   3.51374824e-01   5.12899277e-01\n",
      "   6.57938726e-01   7.81831482e-01   8.80595532e-01   9.51056516e-01\n",
      "   9.90949762e-01   9.98993067e-01   9.74927912e-01   9.19527773e-01\n",
      "   8.34573254e-01   7.22794864e-01   5.87785252e-01   4.33883739e-01\n",
      "   2.66036846e-01   8.96393089e-02  -8.96393089e-02  -2.66036846e-01\n",
      "  -4.33883739e-01  -5.87785252e-01  -7.22794864e-01  -8.34573254e-01\n",
      "  -9.19527773e-01  -9.74927912e-01  -9.98993067e-01  -9.90949762e-01\n",
      "  -9.51056516e-01  -8.80595532e-01  -7.81831482e-01  -6.57938726e-01\n",
      "  -5.12899277e-01  -3.51374824e-01  -1.78556895e-01  -2.44929360e-16]\n"
     ]
    },
    {
     "data": {
      "image/png": "[encoded data removed]",
      "text/plain": [
       "<matplotlib.figure.Figure at 0x2380b7fe208>"
      ]
     },
     "metadata": {},
     "output_type": "display_data"
    }
   ],
   "source": [
    "import numpy as np\n",
    "import matplotlib.pyplot as mpl\n",
    "x=np.linspace(0,2*np.pi,36)\n",
    "y=np.sin(x) #如果想把结果覆盖原数组，可以用 np.sin(x,x)\n",
    "print('x=',x,'\\ny=',y)\n",
    "mpl.plot(x,y,label='sin(x)')\n",
    "mpl.legend()\n",
    "mpl.show()"
   ]
  },
  {
   "cell_type": "markdown",
   "metadata": {},
   "source": [
    "### 例：生成三角波\n",
    "![三角波](./images/三角波.png)"
   ]
  },
  {
   "cell_type": "code",
   "execution_count": 43,
   "metadata": {},
   "outputs": [
    {
     "data": {
      "image/png": "[encoded data removed]",
      "text/plain": [
       "<matplotlib.figure.Figure at 0x2380bbf91d0>"
      ]
     },
     "metadata": {},
     "output_type": "display_data"
    }
   ],
   "source": [
    "#下面生成三角波\n",
    "import numpy as np\n",
    "import matplotlib.pyplot as mpl\n",
    "def triangle_wave(x,c,c0,hc):\n",
    "    x=x-int(x) # 三角波的周期为1，因此只取x坐标的小数部分进行计算\n",
    "    if x>=c : r=0.0\n",
    "    elif x<c0 : r=x/c0*hc\n",
    "    else : r=(c-x)/(c-c0)*hc\n",
    "    return r\n",
    "\n",
    "x=np.linspace(0,2,1000)\n",
    "y=np.array([triangle_wave(t,0.6,0.4,1.0) for t in x])\n",
    "\n",
    "#另一种方法是转换为ufunc\n",
    "triangle_ufunc = np.frompyfunc(lambda x:triangle_wave(x,0.6,0.4,1.0),\n",
    "                              1, #输入参数个数，最后3个参数固定\n",
    "                              1) #输出参数个数\n",
    "y1=triangle_ufunc(x)\n",
    "\n",
    "mpl.plot(x,y1,label='triangle wave')\n",
    "mpl.legend()\n",
    "mpl.show()"
   ]
  },
  {
   "cell_type": "markdown",
   "metadata": {},
   "source": [
    "### 2.2.1 广播\n",
    "---\n",
    "当我们使用ufunc函数对两个数组进行计算时，ufunc函数会对这两个数组的对应元素进行计算，因此它要求这两个数组有相同的大小(shape相同)。如果两个数组的shape不同的话，会进行如下的广播(broadcasting)处理：\n",
    "1. 让所有输入数组都向其中shape最长的数组看齐，shape中不足的部分都通过在前面加1补齐\n",
    "2. 输出数组的shape是输入数组shape的各个轴上的最大值\n",
    "3. 如果输入数组的某个轴和输出数组的对应轴的长度相同或者其长度为1时，这个数组能够用来计算，否则出错\n",
    "4. 当输入数组的某个轴的长度为1时，沿着此轴运算时都用此轴上的第一组值"
   ]
  },
  {
   "cell_type": "code",
   "execution_count": 7,
   "metadata": {},
   "outputs": [
    {
     "name": "stdout",
     "output_type": "stream",
     "text": [
      "a=\n",
      " [[ 0]\n",
      " [10]\n",
      " [20]\n",
      " [30]\n",
      " [40]\n",
      " [50]] \n",
      "a.shape= (6, 1)\n",
      "b=\n",
      " [0 1 2 3 4] \n",
      "b.shape= (5,)\n",
      "c=\n",
      " [[ 0  1  2  3  4]\n",
      " [10 11 12 13 14]\n",
      " [20 21 22 23 24]\n",
      " [30 31 32 33 34]\n",
      " [40 41 42 43 44]\n",
      " [50 51 52 53 54]] \n",
      "c.shape= (6, 5)\n",
      "x= [[-2.        ]\n",
      " [-1.78947368]\n",
      " [-1.57894737]\n",
      " [-1.36842105]\n",
      " [-1.15789474]\n",
      " [-0.94736842]\n",
      " [-0.73684211]\n",
      " [-0.52631579]\n",
      " [-0.31578947]\n",
      " [-0.10526316]\n",
      " [ 0.10526316]\n",
      " [ 0.31578947]\n",
      " [ 0.52631579]\n",
      " [ 0.73684211]\n",
      " [ 0.94736842]\n",
      " [ 1.15789474]\n",
      " [ 1.36842105]\n",
      " [ 1.57894737]\n",
      " [ 1.78947368]\n",
      " [ 2.        ]] \n",
      "y= [[-2.         -1.78947368 -1.57894737 -1.36842105 -1.15789474 -0.94736842\n",
      "  -0.73684211 -0.52631579 -0.31578947 -0.10526316  0.10526316  0.31578947\n",
      "   0.52631579  0.73684211  0.94736842  1.15789474  1.36842105  1.57894737\n",
      "   1.78947368  2.        ]]\n",
      "x+y= [[ -4.00000000e+00  -3.78947368e+00  -3.57894737e+00  -3.36842105e+00\n",
      "   -3.15789474e+00  -2.94736842e+00  -2.73684211e+00  -2.52631579e+00\n",
      "   -2.31578947e+00  -2.10526316e+00  -1.89473684e+00  -1.68421053e+00\n",
      "   -1.47368421e+00  -1.26315789e+00  -1.05263158e+00  -8.42105263e-01\n",
      "   -6.31578947e-01  -4.21052632e-01  -2.10526316e-01   0.00000000e+00]\n",
      " [ -3.78947368e+00  -3.57894737e+00  -3.36842105e+00  -3.15789474e+00\n",
      "   -2.94736842e+00  -2.73684211e+00  -2.52631579e+00  -2.31578947e+00\n",
      "   -2.10526316e+00  -1.89473684e+00  -1.68421053e+00  -1.47368421e+00\n",
      "   -1.26315789e+00  -1.05263158e+00  -8.42105263e-01  -6.31578947e-01\n",
      "   -4.21052632e-01  -2.10526316e-01  -2.22044605e-16   2.10526316e-01]\n",
      " [ -3.57894737e+00  -3.36842105e+00  -3.15789474e+00  -2.94736842e+00\n",
      "   -2.73684211e+00  -2.52631579e+00  -2.31578947e+00  -2.10526316e+00\n",
      "   -1.89473684e+00  -1.68421053e+00  -1.47368421e+00  -1.26315789e+00\n",
      "   -1.05263158e+00  -8.42105263e-01  -6.31578947e-01  -4.21052632e-01\n",
      "   -2.10526316e-01  -4.44089210e-16   2.10526316e-01   4.21052632e-01]\n",
      " [ -3.36842105e+00  -3.15789474e+00  -2.94736842e+00  -2.73684211e+00\n",
      "   -2.52631579e+00  -2.31578947e+00  -2.10526316e+00  -1.89473684e+00\n",
      "   -1.68421053e+00  -1.47368421e+00  -1.26315789e+00  -1.05263158e+00\n",
      "   -8.42105263e-01  -6.31578947e-01  -4.21052632e-01  -2.10526316e-01\n",
      "   -2.22044605e-16   2.10526316e-01   4.21052632e-01   6.31578947e-01]\n",
      " [ -3.15789474e+00  -2.94736842e+00  -2.73684211e+00  -2.52631579e+00\n",
      "   -2.31578947e+00  -2.10526316e+00  -1.89473684e+00  -1.68421053e+00\n",
      "   -1.47368421e+00  -1.26315789e+00  -1.05263158e+00  -8.42105263e-01\n",
      "   -6.31578947e-01  -4.21052632e-01  -2.10526316e-01   0.00000000e+00\n",
      "    2.10526316e-01   4.21052632e-01   6.31578947e-01   8.42105263e-01]\n",
      " [ -2.94736842e+00  -2.73684211e+00  -2.52631579e+00  -2.31578947e+00\n",
      "   -2.10526316e+00  -1.89473684e+00  -1.68421053e+00  -1.47368421e+00\n",
      "   -1.26315789e+00  -1.05263158e+00  -8.42105263e-01  -6.31578947e-01\n",
      "   -4.21052632e-01  -2.10526316e-01  -2.22044605e-16   2.10526316e-01\n",
      "    4.21052632e-01   6.31578947e-01   8.42105263e-01   1.05263158e+00]\n",
      " [ -2.73684211e+00  -2.52631579e+00  -2.31578947e+00  -2.10526316e+00\n",
      "   -1.89473684e+00  -1.68421053e+00  -1.47368421e+00  -1.26315789e+00\n",
      "   -1.05263158e+00  -8.42105263e-01  -6.31578947e-01  -4.21052632e-01\n",
      "   -2.10526316e-01  -4.44089210e-16   2.10526316e-01   4.21052632e-01\n",
      "    6.31578947e-01   8.42105263e-01   1.05263158e+00   1.26315789e+00]\n",
      " [ -2.52631579e+00  -2.31578947e+00  -2.10526316e+00  -1.89473684e+00\n",
      "   -1.68421053e+00  -1.47368421e+00  -1.26315789e+00  -1.05263158e+00\n",
      "   -8.42105263e-01  -6.31578947e-01  -4.21052632e-01  -2.10526316e-01\n",
      "   -2.22044605e-16   2.10526316e-01   4.21052632e-01   6.31578947e-01\n",
      "    8.42105263e-01   1.05263158e+00   1.26315789e+00   1.47368421e+00]\n",
      " [ -2.31578947e+00  -2.10526316e+00  -1.89473684e+00  -1.68421053e+00\n",
      "   -1.47368421e+00  -1.26315789e+00  -1.05263158e+00  -8.42105263e-01\n",
      "   -6.31578947e-01  -4.21052632e-01  -2.10526316e-01   0.00000000e+00\n",
      "    2.10526316e-01   4.21052632e-01   6.31578947e-01   8.42105263e-01\n",
      "    1.05263158e+00   1.26315789e+00   1.47368421e+00   1.68421053e+00]\n",
      " [ -2.10526316e+00  -1.89473684e+00  -1.68421053e+00  -1.47368421e+00\n",
      "   -1.26315789e+00  -1.05263158e+00  -8.42105263e-01  -6.31578947e-01\n",
      "   -4.21052632e-01  -2.10526316e-01  -2.22044605e-16   2.10526316e-01\n",
      "    4.21052632e-01   6.31578947e-01   8.42105263e-01   1.05263158e+00\n",
      "    1.26315789e+00   1.47368421e+00   1.68421053e+00   1.89473684e+00]\n",
      " [ -1.89473684e+00  -1.68421053e+00  -1.47368421e+00  -1.26315789e+00\n",
      "   -1.05263158e+00  -8.42105263e-01  -6.31578947e-01  -4.21052632e-01\n",
      "   -2.10526316e-01  -2.22044605e-16   2.10526316e-01   4.21052632e-01\n",
      "    6.31578947e-01   8.42105263e-01   1.05263158e+00   1.26315789e+00\n",
      "    1.47368421e+00   1.68421053e+00   1.89473684e+00   2.10526316e+00]\n",
      " [ -1.68421053e+00  -1.47368421e+00  -1.26315789e+00  -1.05263158e+00\n",
      "   -8.42105263e-01  -6.31578947e-01  -4.21052632e-01  -2.10526316e-01\n",
      "    0.00000000e+00   2.10526316e-01   4.21052632e-01   6.31578947e-01\n",
      "    8.42105263e-01   1.05263158e+00   1.26315789e+00   1.47368421e+00\n",
      "    1.68421053e+00   1.89473684e+00   2.10526316e+00   2.31578947e+00]\n",
      " [ -1.47368421e+00  -1.26315789e+00  -1.05263158e+00  -8.42105263e-01\n",
      "   -6.31578947e-01  -4.21052632e-01  -2.10526316e-01  -2.22044605e-16\n",
      "    2.10526316e-01   4.21052632e-01   6.31578947e-01   8.42105263e-01\n",
      "    1.05263158e+00   1.26315789e+00   1.47368421e+00   1.68421053e+00\n",
      "    1.89473684e+00   2.10526316e+00   2.31578947e+00   2.52631579e+00]\n",
      " [ -1.26315789e+00  -1.05263158e+00  -8.42105263e-01  -6.31578947e-01\n",
      "   -4.21052632e-01  -2.10526316e-01  -4.44089210e-16   2.10526316e-01\n",
      "    4.21052632e-01   6.31578947e-01   8.42105263e-01   1.05263158e+00\n",
      "    1.26315789e+00   1.47368421e+00   1.68421053e+00   1.89473684e+00\n",
      "    2.10526316e+00   2.31578947e+00   2.52631579e+00   2.73684211e+00]\n",
      " [ -1.05263158e+00  -8.42105263e-01  -6.31578947e-01  -4.21052632e-01\n",
      "   -2.10526316e-01  -2.22044605e-16   2.10526316e-01   4.21052632e-01\n",
      "    6.31578947e-01   8.42105263e-01   1.05263158e+00   1.26315789e+00\n",
      "    1.47368421e+00   1.68421053e+00   1.89473684e+00   2.10526316e+00\n",
      "    2.31578947e+00   2.52631579e+00   2.73684211e+00   2.94736842e+00]\n",
      " [ -8.42105263e-01  -6.31578947e-01  -4.21052632e-01  -2.10526316e-01\n",
      "    0.00000000e+00   2.10526316e-01   4.21052632e-01   6.31578947e-01\n",
      "    8.42105263e-01   1.05263158e+00   1.26315789e+00   1.47368421e+00\n",
      "    1.68421053e+00   1.89473684e+00   2.10526316e+00   2.31578947e+00\n",
      "    2.52631579e+00   2.73684211e+00   2.94736842e+00   3.15789474e+00]\n",
      " [ -6.31578947e-01  -4.21052632e-01  -2.10526316e-01  -2.22044605e-16\n",
      "    2.10526316e-01   4.21052632e-01   6.31578947e-01   8.42105263e-01\n",
      "    1.05263158e+00   1.26315789e+00   1.47368421e+00   1.68421053e+00\n",
      "    1.89473684e+00   2.10526316e+00   2.31578947e+00   2.52631579e+00\n",
      "    2.73684211e+00   2.94736842e+00   3.15789474e+00   3.36842105e+00]\n",
      " [ -4.21052632e-01  -2.10526316e-01  -4.44089210e-16   2.10526316e-01\n",
      "    4.21052632e-01   6.31578947e-01   8.42105263e-01   1.05263158e+00\n",
      "    1.26315789e+00   1.47368421e+00   1.68421053e+00   1.89473684e+00\n",
      "    2.10526316e+00   2.31578947e+00   2.52631579e+00   2.73684211e+00\n",
      "    2.94736842e+00   3.15789474e+00   3.36842105e+00   3.57894737e+00]\n",
      " [ -2.10526316e-01  -2.22044605e-16   2.10526316e-01   4.21052632e-01\n",
      "    6.31578947e-01   8.42105263e-01   1.05263158e+00   1.26315789e+00\n",
      "    1.47368421e+00   1.68421053e+00   1.89473684e+00   2.10526316e+00\n",
      "    2.31578947e+00   2.52631579e+00   2.73684211e+00   2.94736842e+00\n",
      "    3.15789474e+00   3.36842105e+00   3.57894737e+00   3.78947368e+00]\n",
      " [  0.00000000e+00   2.10526316e-01   4.21052632e-01   6.31578947e-01\n",
      "    8.42105263e-01   1.05263158e+00   1.26315789e+00   1.47368421e+00\n",
      "    1.68421053e+00   1.89473684e+00   2.10526316e+00   2.31578947e+00\n",
      "    2.52631579e+00   2.73684211e+00   2.94736842e+00   3.15789474e+00\n",
      "    3.36842105e+00   3.57894737e+00   3.78947368e+00   4.00000000e+00]]\n"
     ]
    },
    {
     "data": {
      "image/png": "[encoded data removed]",
      "text/plain": [
       "<matplotlib.figure.Figure at 0x15b31260b38>"
      ]
     },
     "metadata": {},
     "output_type": "display_data"
    }
   ],
   "source": [
    "import numpy as np\n",
    "import matplotlib.pyplot as mpl\n",
    "from mpl_toolkits.mplot3d import Axes3D\n",
    "\n",
    "a=np.arange(0,60,10).reshape(-1,1)\n",
    "print('a=\\n',a,'\\na.shape=', a.shape)\n",
    "b=np.arange(0,5)\n",
    "print('b=\\n',b,'\\nb.shape=', b.shape)\n",
    "c=a+b\n",
    "print('c=\\n',c,'\\nc.shape=', c.shape)\n",
    "x,y=np.ogrid[-2:2:20j,-2:2:20j] #第三个参数是步长，若是复数则是数列长度\n",
    "print(\"x=\",x,\"\\ny=\",y)\n",
    "print(\"x+y=\",x+y)\n",
    "z=x*np.exp(-x**2-y**2)\n",
    "\n",
    "theta=np.linspace(-4*np.pi,4*np.pi,100)\n",
    "z1   =np.linspace(-2,2,100)\n",
    "r    =z1**2+1\n",
    "x1   =r*np.sin(theta)\n",
    "y1   =r*np.cos(theta)\n",
    "fig=mpl.figure()\n",
    "mpl.clf()\n",
    "ax=fig.gca(projection='3d')\n",
    "ax.plot(x1,y1,z1,label='haha')\n",
    "ax.legend()\n",
    "mpl.show()"
   ]
  },
  {
   "cell_type": "code",
   "execution_count": 14,
   "metadata": {},
   "outputs": [
    {
     "data": {
      "image/png": "[encoded data removed]",
      "text/plain": [
       "<matplotlib.figure.Figure at 0x230b750be48>"
      ]
     },
     "metadata": {},
     "output_type": "display_data"
    }
   ],
   "source": [
    "from mpl_toolkits.mplot3d import Axes3D\n",
    "import matplotlib.pyplot as plt\n",
    "from matplotlib import cm\n",
    "from matplotlib.ticker import LinearLocator, FormatStrFormatter\n",
    "import numpy as np\n",
    "\n",
    "fig = plt.figure()\n",
    "ax=fig.add_subplot(111,projection='3d')\n",
    "\n",
    "X = np.linspace(-2,2,20) #np.arange(-5, 5, 0.25)\n",
    "Y = np.linspace(-2,2,20) #np.arange(-5, 5, 0.25)\n",
    "X, Y = np.meshgrid(X, Y)\n",
    "Z = X*np.exp(-X**2 - Y**2)\n",
    "#print(X,Y,Z)\n",
    "# Plot the surface.\n",
    "surf = ax.plot_surface(X, Y, Z, cmap=cm.coolwarm,\n",
    "                       linewidth=0, antialiased=True)\n",
    "\n",
    "# Customize the z axis.\n",
    "ax.set_zlim(-0.45, 0.45)\n",
    "ax.zaxis.set_major_locator(LinearLocator(10))\n",
    "ax.zaxis.set_major_formatter(FormatStrFormatter('%.02f'))\n",
    "\n",
    "# Add a color bar which maps values to colors.\n",
    "fig.colorbar(surf, shrink=0.5, aspect=5)\n",
    "\n",
    "plt.show()"
   ]
  },
  {
   "cell_type": "markdown",
   "metadata": {
    "collapsed": true
   },
   "source": [
    "### 2.2.2 ufunc的方法\n",
    "---\n"
   ]
  }
 ],
 "metadata": {
  "kernelspec": {
   "display_name": "Python 3",
   "language": "python",
   "name": "python3"
  },
  "language_info": {
   "codemirror_mode": {
    "name": "ipython",
    "version": 3
   },
   "file_extension": ".py",
   "mimetype": "text/x-python",
   "name": "python",
   "nbconvert_exporter": "python",
   "pygments_lexer": "ipython3",
   "version": "3.6.2"
  }
 },
 "nbformat": 4,
 "nbformat_minor": 2
}
